{
 "cells": [
  {
   "cell_type": "markdown",
   "metadata": {},
   "source": [
    "# Continação Pandas\n",
    "\n",
    "Nessa aula vamos continuar vendo sobre a biblioteca Pandas e mais algumas das suas utilidades. "
   ]
  },
  {
   "cell_type": "markdown",
   "metadata": {},
   "source": [
    "## Sumário\n",
    "- [Tipos de dados em tabelas](#Tipos-de-dados-em-tabelas)\n",
    "    * [Strings](#Strings)\n",
    "    * [Datetime e Timedelta](#Datetime-e-Timedelta)\n",
    "- [Query](#Query)\n",
    "- [Merge](#Merge)\n",
    "- [Group By](#Group-By)\n",
    "- [Conclusão](#Conclusão)"
   ]
  },
  {
   "cell_type": "markdown",
   "metadata": {},
   "source": [
    "## Importando a biblioteca e lendo os dados \n",
    "\n",
    "Nessa aula usaremos três datasets:\n",
    "\n",
    "- WorldCup: contém informações sobre as copas do mundo, como sede, ano, campeão e quantidade de gols\n",
    "- WorldCupMatches: contém informações sobre todas as partidas que ocorreram em cada uma das copas, como data, estádio, placar e quantidade de gols\n",
    "- WorldCupPlayers: contém informações sobre os jogadores que já participaram de uma copa do mundo, como nome, seleção, camisa e posição\n",
    "\n",
    "Vamos ver um pouco mais sobre cada uma das tabelas abaixo."
   ]
  },
  {
   "cell_type": "code",
   "execution_count": null,
   "metadata": {},
   "outputs": [],
   "source": [
    "import pandas as pd\n",
    "\n",
    "cups = pd.read_csv('WorldCups.csv')\n",
    "matches = pd.read_csv('WorldCupMatches.csv')\n",
    "players = pd.read_csv('WorldCupPlayers.csv')"
   ]
  },
  {
   "cell_type": "markdown",
   "metadata": {},
   "source": [
    "### Overview da tabela de copas"
   ]
  },
  {
   "cell_type": "code",
   "execution_count": null,
   "metadata": {},
   "outputs": [],
   "source": [
    "cups.head()"
   ]
  },
  {
   "cell_type": "code",
   "execution_count": null,
   "metadata": {},
   "outputs": [],
   "source": [
    "cups.dtypes"
   ]
  },
  {
   "cell_type": "markdown",
   "metadata": {},
   "source": [
    "### Overview da tabela de partidas"
   ]
  },
  {
   "cell_type": "code",
   "execution_count": null,
   "metadata": {},
   "outputs": [],
   "source": [
    "matches.head()"
   ]
  },
  {
   "cell_type": "code",
   "execution_count": null,
   "metadata": {},
   "outputs": [],
   "source": [
    "matches.dtypes"
   ]
  },
  {
   "cell_type": "markdown",
   "metadata": {},
   "source": [
    "### Overview da tabela de jogadores"
   ]
  },
  {
   "cell_type": "code",
   "execution_count": null,
   "metadata": {},
   "outputs": [],
   "source": [
    "players.head()"
   ]
  },
  {
   "cell_type": "code",
   "execution_count": null,
   "metadata": {},
   "outputs": [],
   "source": [
    "players.dtypes"
   ]
  },
  {
   "cell_type": "markdown",
   "metadata": {},
   "source": [
    "## Tipos de dados em tabelas\n",
    "Além dos tipos de dados que já vimos, é possível lidar com alguns outros tipo bem úteis em tabelas, como strings e datetimes."
   ]
  },
  {
   "cell_type": "markdown",
   "metadata": {},
   "source": [
    "### Strings\n",
    "\n",
    "Lidar com strings em Dataframes ou em Series é, na verdade, bem simples. Basta selecionar os dados e utilizar '.str' em seguida. Assim é possível tratar os dados como se fossem uma string só e, então, utilizar os metódos conhecidos para strings.\n",
    "\n",
    "Por exemplo, vimos na tabela de jogadores que os seus nomes e dos técnios estão escritos com o nome em letras minúsculas e o sobrenome em letras maiúsculas. Digamos que gostaríamos de mudar isso para que tenhamos apenas a primeira letra de cada nome maiúscula."
   ]
  },
  {
   "cell_type": "code",
   "execution_count": null,
   "metadata": {},
   "outputs": [],
   "source": [
    "players['Coach Name'] = players['Coach Name'].str.title()\n",
    "players['Player Name'] = players['Player Name'].str.title()"
   ]
  },
  {
   "cell_type": "code",
   "execution_count": null,
   "metadata": {},
   "outputs": [],
   "source": [
    "players.head()"
   ]
  },
  {
   "cell_type": "markdown",
   "metadata": {},
   "source": [
    "Agora temos um problema: o país do técnico deveria estar em letras maiúsculas. Vamos aproveitar para criar uma nova coluna para esse nome. \n",
    "\n",
    "Para isso vamos dividir o nome do técnico nos espaços e pegar o útlimo valor. Em seguida vamos retirar os parênteses e transformar as letras em maiúsculas."
   ]
  },
  {
   "cell_type": "code",
   "execution_count": null,
   "metadata": {},
   "outputs": [],
   "source": [
    "players['Coach County'] = players['Coach Name'].str.split(' ').str[-1]\n",
    "players['Coach County'] = players['Coach County'].str.replace('(', '')\n",
    "players['Coach County'] = players['Coach County'].str.replace(')', '')\n",
    "players['Coach County'] = players['Coach County'].str.upper()"
   ]
  },
  {
   "cell_type": "code",
   "execution_count": null,
   "metadata": {},
   "outputs": [],
   "source": [
    "players.head()"
   ]
  },
  {
   "cell_type": "markdown",
   "metadata": {},
   "source": [
    "Essa são apenas algumas das utilidades de strings em tabelas, [aqui](https://pandas.pydata.org/pandas-docs/stable/reference/api/pandas.Series.str.capitalize.html) é possível ver mais algumas delas."
   ]
  },
  {
   "cell_type": "markdown",
   "metadata": {},
   "source": [
    "### [Datetime e Timedelta](https://pandas.pydata.org/pandas-docs/stable/user_guide/timeseries.html)"
   ]
  },
  {
   "cell_type": "markdown",
   "metadata": {},
   "source": [
    "Esses tipos de dados, como os nomes sugerem, são utilizados para lidar com marcações de tempo.\n",
    "\n",
    "Um datetime consiste de um dia, horário e fuso horário específicos. Enquanto isso, um timedelta é uma duração de tempo."
   ]
  },
  {
   "cell_type": "markdown",
   "metadata": {},
   "source": [
    "Na tabela de partidas, por exemplo, temos um atributo chamado Datetime, que consiste da data e horário em que a partida teve início. Primeiramente precisamos transformar os dados no tipo Datetime de fato e para isso é preciso especificar o formato da data."
   ]
  },
  {
   "cell_type": "code",
   "execution_count": null,
   "metadata": {},
   "outputs": [],
   "source": [
    "matches['Datetime'] = matches['Datetime'].str.replace('June', 'Jun').str.replace('July', 'Jul')\n",
    "matches['Datetime'] = pd.to_datetime(matches['Datetime'], format = '%d %b %Y - %H:%M ')"
   ]
  },
  {
   "cell_type": "markdown",
   "metadata": {},
   "source": [
    "Já existe uma coluna com o ano da partida, mas utilizando o datetime, podemos criar colunas com o respectivo dia e o mês de ocorrência.\n",
    "\n",
    "Analogamente ao acesso de strings, precisamos utilizar '.dt' para indicar que estamos lidando com um datetime e, assim, acessar seus métodos e atributos."
   ]
  },
  {
   "cell_type": "code",
   "execution_count": null,
   "metadata": {},
   "outputs": [],
   "source": [
    "matches['Day'] = matches['Datetime'].dt.day\n",
    "matches['Month'] = matches['Datetime'].dt.month"
   ]
  },
  {
   "cell_type": "code",
   "execution_count": null,
   "metadata": {},
   "outputs": [],
   "source": [
    "matches[['Day', 'Month']].head()"
   ]
  },
  {
   "cell_type": "markdown",
   "metadata": {},
   "source": [
    "## Query\n",
    "\n",
    "Na [primeira aula de Pandas](https://github.com/icmc-data/Intro-DS-2020.1/blob/master/Aula2/introducao_pandas.ipynb) foi explicado como utilizar indexação booleana para acessar apenas partes de uma tabela. Vamos ver agora como utilizar a função query, que também tem como finalidade realizar acessos. Essa função é mais eficiente e em geral mais legível do que a indexação booleana.\n",
    "\n",
    "Para utilizá-la, é passado como parâmetro a expressão utilizada para filtrar a tabela. Nessa expressão são utilizados os nomes dos atributos, os operadores de comparação (>, >=, <, <=, ==) e os valores desejados e, caso o nome do atributo tenha espaços, ele deve ser escrito entre crases.\n",
    "\n",
    "Um exemplo seria selecionar todos os jogos da seleção brasileira:"
   ]
  },
  {
   "cell_type": "code",
   "execution_count": null,
   "metadata": {
    "scrolled": true
   },
   "outputs": [],
   "source": [
    "# Com indexação binária\n",
    "matches[(matches['Home Team Name'] == 'Brazil') | (matches['Away Team Name'] == 'Brazil')]"
   ]
  },
  {
   "cell_type": "code",
   "execution_count": null,
   "metadata": {
    "scrolled": true
   },
   "outputs": [],
   "source": [
    "# Com Query\n",
    "matches.query('(`Home Team Name` == \"Brazil\") or (`Away Team Name` == \"Brazil\")')"
   ]
  },
  {
   "cell_type": "markdown",
   "metadata": {},
   "source": [
    "Vamos ver quantos desses jogos o Brasil ganhou, ou seja, em quantos dos jogos era mandante e o mandante fez mais gols ou era convidado e o convidado fez mais gols:"
   ]
  },
  {
   "cell_type": "code",
   "execution_count": null,
   "metadata": {
    "scrolled": true
   },
   "outputs": [],
   "source": [
    "matches.query('(`Home Team Name` == \"Brazil\" and `Home Team Goals` > `Away Team Goals`) or  \\\n",
    "              (`Away Team Name` == \"Brazil\" and `Away Team Goals` > `Home Team Goals`)')"
   ]
  },
  {
   "cell_type": "markdown",
   "metadata": {},
   "source": [
    "## Merge\n",
    "\n",
    "Essa função tem como objetivo juntar tabelas. Existem algumas maneiras de fazer isso, uma vez que nem sempre todos os dados serão compatíveis.\n",
    "\n",
    "![Tipos de merge](./src/merge.jpg)\n",
    "\n",
    "- Left: todos os valores da tabela da esquerda são trazidos, mas da tabela da direita são selecionados apenas aqueles que tem um *match* na tabela da esquerda\n",
    "- Right: todos os valores da tabela da direita são trazidos, mas da tabela da esqurda são selecionados apenas aqueles que tem um *match* na tabela da direita\n",
    "- Inner: são selecionadas apenas os valores que estão tanto na tabela da esquerda quanto na da direita\n",
    "- Outer: todos os valores são selecionados, mesmo se não houver um *match*"
   ]
  },
  {
   "cell_type": "markdown",
   "metadata": {},
   "source": [
    "Estamos lidando nesse notebook com três datasets separados, mas podemos juntá-los de alguma maneira. Não precisamos nos preocupar muito com a forma (left, right, inner ou outer) que será feito o merge, pois temos garantia de que os dados são consistentes, uma vez que todo jogador da tabela players participou de uma partida válida da tabela matches e todas essas partidas pertencem a uma copa identificada na tabela cups. Isso significa que para todos as linhas de uma tabela haverá um match na outra.\n",
    "\n",
    "Vamos começar juntando a tabela das copas com a tabela de partidas. Para isso, podemos utilizar o atributo 'ano' que ambas tem em comum."
   ]
  },
  {
   "cell_type": "code",
   "execution_count": null,
   "metadata": {},
   "outputs": [],
   "source": [
    "matches_cups = pd.merge(matches, cups, on='Year')"
   ]
  },
  {
   "cell_type": "code",
   "execution_count": null,
   "metadata": {
    "scrolled": true
   },
   "outputs": [],
   "source": [
    "matches_cups.head()"
   ]
  },
  {
   "cell_type": "markdown",
   "metadata": {},
   "source": [
    "Podemos selecionar agora o time que ficou com a quinta posição em cada uma das copas. Para isso temos que descobrir que time perdeu para o campeão nas quartas de final."
   ]
  },
  {
   "cell_type": "code",
   "execution_count": null,
   "metadata": {},
   "outputs": [],
   "source": [
    "fifth_away = matches_cups.query('Stage == \"Quarter-finals\" and (`Home Team Name` == Winner)')"
   ]
  },
  {
   "cell_type": "code",
   "execution_count": null,
   "metadata": {
    "scrolled": true
   },
   "outputs": [],
   "source": [
    "fifth_away = fifth_away[['Year', 'Away Team Name']]\n",
    "fifth_away"
   ]
  },
  {
   "cell_type": "markdown",
   "metadata": {},
   "source": [
    "Note que na query acima temos linhas duplicadas que não nos interessam, então podemos retirar uma delas utilizando a função **drop_duplicates**"
   ]
  },
  {
   "cell_type": "code",
   "execution_count": null,
   "metadata": {},
   "outputs": [],
   "source": [
    "fifth_away = fifth_away.drop_duplicates(['Year', 'Away Team Name'])"
   ]
  },
  {
   "cell_type": "code",
   "execution_count": null,
   "metadata": {},
   "outputs": [],
   "source": [
    "fifth_home = matches_cups.query('Stage == \"Quarter-finals\" and `Away Team Name` == Winner')"
   ]
  },
  {
   "cell_type": "code",
   "execution_count": null,
   "metadata": {},
   "outputs": [],
   "source": [
    "fifth_home = fifth_home[['Year', 'Home Team Name']]\n",
    "fifth_home"
   ]
  },
  {
   "cell_type": "markdown",
   "metadata": {},
   "source": [
    "Podemos juntar as duas tabelas utilizando a função **concat**:"
   ]
  },
  {
   "cell_type": "code",
   "execution_count": null,
   "metadata": {
    "scrolled": true
   },
   "outputs": [],
   "source": [
    "pd.concat([fifth_away, fifth_home])"
   ]
  },
  {
   "cell_type": "markdown",
   "metadata": {},
   "source": [
    "Outro exemplo de junção de tabelas é utilizando as partidas e os jogadores. Essas tabelas tem em comum o atributo 'MatchID':"
   ]
  },
  {
   "cell_type": "code",
   "execution_count": null,
   "metadata": {},
   "outputs": [],
   "source": [
    "matches_players = pd.merge(players, matches, on='MatchID')"
   ]
  },
  {
   "cell_type": "code",
   "execution_count": null,
   "metadata": {},
   "outputs": [],
   "source": [
    "matches_players.head()"
   ]
  },
  {
   "cell_type": "markdown",
   "metadata": {},
   "source": [
    "## Group By\n",
    "\n",
    "Esse tipo de operação é utilizado para agrupar dados. Com ela podemos responder, por exemplo, as seguintes perguntas:\n",
    "\n",
    "- Qual a média de gols por copa?\n",
    "- Para cada time, qual a média de gols por copa como visitante? E como mandante?\n",
    "- Para cada jogador, quantos gols foram feitos em jogos em que ele participou?\n",
    "- Quantos jogos aconteceram em cada mês?\n",
    "\n",
    "Na prática sua utilização é a seguinte: seleciona-se o atributo da tabela que será utilizado para agrupar os dados e em seguida a operação (soma, média, desvio padrão...) e as colunas nas quais será feita na agregação."
   ]
  },
  {
   "cell_type": "markdown",
   "metadata": {},
   "source": [
    "Qual a média de gols por copa?\n"
   ]
  },
  {
   "cell_type": "code",
   "execution_count": null,
   "metadata": {},
   "outputs": [],
   "source": [
    "matches.groupby('Year')[['Home Team Goals', 'Away Team Goals']].mean()"
   ]
  },
  {
   "cell_type": "markdown",
   "metadata": {},
   "source": [
    "Para cada time, qual a média de gols por copa como mandante?\n"
   ]
  },
  {
   "cell_type": "code",
   "execution_count": null,
   "metadata": {},
   "outputs": [],
   "source": [
    "matches.groupby(['Year', 'Home Team Name'])[['Home Team Goals']].mean()"
   ]
  },
  {
   "cell_type": "markdown",
   "metadata": {},
   "source": [
    "Para cada time, qual a média de gols por copa como visitante?"
   ]
  },
  {
   "cell_type": "code",
   "execution_count": null,
   "metadata": {},
   "outputs": [],
   "source": [
    "matches.groupby(['Year', 'Away Team Name'])[['Away Team Goals']].mean()"
   ]
  },
  {
   "cell_type": "markdown",
   "metadata": {},
   "source": [
    "Para cada jogador, quantos gols foram feitos em jogos em que ele participou no time visitante?"
   ]
  },
  {
   "cell_type": "code",
   "execution_count": null,
   "metadata": {},
   "outputs": [],
   "source": [
    "matches_players.groupby(['Player Name'])[['Player Name', 'Away Team Goals']].sum()"
   ]
  },
  {
   "cell_type": "markdown",
   "metadata": {},
   "source": [
    "Para cada jogador, quantos gols foram feitos em jogos em que ele participou no time mandante?"
   ]
  },
  {
   "cell_type": "code",
   "execution_count": null,
   "metadata": {},
   "outputs": [],
   "source": [
    "matches_players.groupby(['Player Name'])[['Player Name', 'Home Team Goals']].sum()"
   ]
  },
  {
   "cell_type": "markdown",
   "metadata": {},
   "source": [
    "Para cada jogador, quantos gols foram feitos em jogos em que ele participou em geral"
   ]
  },
  {
   "cell_type": "code",
   "execution_count": null,
   "metadata": {},
   "outputs": [],
   "source": [
    "matches_players.groupby(['Player Name'])[['Home Team Goals', 'Away Team Goals']].sum().sum(axis = 1)"
   ]
  },
  {
   "cell_type": "markdown",
   "metadata": {},
   "source": [
    "Quantos jogos aconteceram em cada mês?\n",
    "\n",
    "Nesse caso podemos utilizar a função **value counts**. Ela conta, para cada um dos valores existentes, a sua frequência na tabela, que é justamente o que queremos."
   ]
  },
  {
   "cell_type": "code",
   "execution_count": null,
   "metadata": {},
   "outputs": [],
   "source": [
    "matches['Month'].value_counts()"
   ]
  },
  {
   "cell_type": "markdown",
   "metadata": {},
   "source": [
    "## Conclusão\n",
    "\n",
    "Por hoje é isso, galera. Sempre bom aprender um pouco mais de Pandas e das coisas que podemos fazer utilizando-a. Recomendo dar uma olhada não só nos assuntos abordados aqui, mas em outras funções dessa biblioteca.\n",
    "\n",
    "Além disso, recomendo fazer os exercícios disponibilizados. Qualquer dúvida é só entrar em contato =D"
   ]
  }
 ],
 "metadata": {
  "kernelspec": {
   "display_name": "Python 3",
   "language": "python",
   "name": "python3"
  },
  "language_info": {
   "codemirror_mode": {
    "name": "ipython",
    "version": 3
   },
   "file_extension": ".py",
   "mimetype": "text/x-python",
   "name": "python",
   "nbconvert_exporter": "python",
   "pygments_lexer": "ipython3",
   "version": "3.8.2"
  }
 },
 "nbformat": 4,
 "nbformat_minor": 4
}
