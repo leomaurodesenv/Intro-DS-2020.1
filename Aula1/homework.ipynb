{
 "cells": [
  {
   "cell_type": "markdown",
   "metadata": {},
   "source": [
    "# Assignment 1 - kNN - Curso de Ciência de Dados"
   ]
  },
  {
   "cell_type": "markdown",
   "metadata": {},
   "source": [
    "_Feito por: [Dora](https://github.com/joaopedromattos)_"
   ]
  },
  {
   "cell_type": "markdown",
   "metadata": {},
   "source": [
    "Seja muito bem-vindo ao seu primeiro dever de casa de Ciência de Dados.\n",
    "\n",
    "Neste _notebook_ você aprenderá a dar seus primeiros passos dentro do _pipeline_ de um projeto de Ciência de Dados!\n",
    "\n",
    "Conteúdos abordados nessa lição:\n",
    "- Sintaxe Python;\n",
    "- Numpy, Jupyter e Matplotlib;\n",
    "- Coleta do *dataset*;\n",
    "- Pré-processamento;\n",
    "- Construção do modelo;\n",
    "- *Fine-tunning*;\n"
   ]
  },
  {
   "cell_type": "code",
   "execution_count": 1,
   "metadata": {},
   "outputs": [],
   "source": [
    "# Tomamos a liberdade de importar para você tudo aquilo que voce usara no seu trabalho! \n",
    "# Lembre-se de ter tudo instalado!\n",
    "from tqdm import tqdm\n",
    "\n",
    "import numpy as np\n",
    "import matplotlib.pyplot as plt\n",
    "\n",
    "from sklearn import datasets\n",
    "from sklearn.model_selection import train_test_split\n",
    "\n",
    "# Essas linhas sao apenas configuracoes de plotting. Elas nao sao importantes para o seu aprendizado,\n",
    "# entao as trataremos como \"magica\" por agora, ok?\n",
    "%matplotlib inline\n",
    "plt.rcParams['figure.figsize'] = (10.0, 8.0) # set default size of plots\n",
    "plt.rcParams['image.interpolation'] = 'nearest'\n",
    "plt.rcParams['image.cmap'] = 'gray'\n",
    "\n",
    "# Abaixo encontram-se os hiperparametros do modelo que sera construido.\n",
    "# A nao ser que seja instruido, voce nao deve modifica-los\n",
    "TRAIN_TEST_SPLIT_SIZE = 0.2 # Define que o TESTE correspondera a 20% do total do dataset\n",
    "K = 1 # Define o numero de vizinhos a partir dos quais realizaremos a votacao do kNN"
   ]
  },
  {
   "cell_type": "markdown",
   "metadata": {},
   "source": [
    "## Primeiros passos: Carregando o dataset\n",
    "\n",
    "Ao executar a célula abaixo, você carregará o *mnist*, o *dataset* utilizado nessa lição."
   ]
  },
  {
   "cell_type": "code",
   "execution_count": 2,
   "metadata": {},
   "outputs": [
    {
     "name": "stdout",
     "output_type": "stream",
     "text": [
      "O dataset possui 1797  imagens.\n"
     ]
    },
    {
     "data": {
      "text/plain": [
       "<matplotlib.image.AxesImage at 0x7f85455cb588>"
      ]
     },
     "execution_count": 2,
     "metadata": {},
     "output_type": "execute_result"
    },
    {
     "data": {
      "image/png": "[encoded data removed]",
      "text/plain": [
       "<Figure size 432x288 with 1 Axes>"
      ]
     },
     "metadata": {},
     "output_type": "display_data"
    }
   ],
   "source": [
    "dataset = datasets.load_digits()\n",
    "\n",
    "datasetSize = len(dataset.images)\n",
    "print(\"O dataset possui\", datasetSize, \" imagens.\")\n",
    "\n",
    "# Mostraremos uma imagem aleatoria dentro do dataset\n",
    "plt.imshow(dataset.images[np.random.randint(datasetSize)])"
   ]
  },
  {
   "cell_type": "markdown",
   "metadata": {},
   "source": [
    "Como mencionado em aula, dentro do aprendizado supervisionado, precisamos realizar uma divisão dos dados entre dois conjuntos distintos, os quais serão chamados de **treino** e **teste**."
   ]
  },
  {
   "cell_type": "code",
   "execution_count": 3,
   "metadata": {},
   "outputs": [
    {
     "name": "stdout",
     "output_type": "stream",
     "text": [
      "Train shapes - X = (1437, 64)  y = (1437,)\n",
      "Test shapes - X = (360, 64)  y = (360,)\n"
     ]
    }
   ],
   "source": [
    "X_train, X_test, y_train, y_test = train_test_split(dataset.data, dataset.target, test_size=TRAIN_TEST_SPLIT_SIZE)\n",
    "\n",
    "print(\"Train shapes - X =\", X_train.shape,\" y =\", y_train.shape)\n",
    "print(\"Test shapes - X =\", X_test.shape,\" y =\", y_test.shape)"
   ]
  },
  {
   "cell_type": "code",
   "execution_count": 4,
   "metadata": {},
   "outputs": [],
   "source": [
    "from builtins import range\n",
    "from builtins import object\n",
    "import numpy as np\n",
    "\n",
    "\n",
    "class KNearestNeighbor(object):\n",
    "    \"\"\" Classficador kNN \"\"\"\n",
    "\n",
    "    def __init__(self):\n",
    "        pass\n",
    "\n",
    "    def _dist(self, x, x2):\n",
    "        n = len(x)\n",
    "        return (sum([(x2[i] - x[i])**2 for i in range(n)]))**(0.5)\n",
    "\n",
    "    def train(self, X, y):\n",
    "        \"\"\"\n",
    "        Como mostrado em aula, o modelo kNN simplesmente se lembra dos dados\n",
    "        para, durante o teste, comparar com a instancia de inferencia, e isso\n",
    "        eh exatamente o que este metodo faz.\n",
    "\n",
    "        Inputs:\n",
    "        - X: Array numpy de forma (num_train, D)\n",
    "        - y: Array numpy de forma (N,), em que y[i] e o label de X[i]\n",
    "        \"\"\"\n",
    "        self.X_train = X\n",
    "        self.y_train = y\n",
    "        print(\"Train format: \", self.X_train.shape)\n",
    "\n",
    "    def predict(self, X, k=1):\n",
    "        \"\"\"\n",
    "        Realiza a predicao conforme os k vizinhos mais proximos\n",
    "        \n",
    "        Inputs:\n",
    "        - X: Array de teste, analogo ao de treino.\n",
    "        - k: O numero de vizinhos utilizados para a classificacao\n",
    "        - num_loops: Qual implementacao utilizar\n",
    "\n",
    "        Returns:\n",
    "        - y: Array numpy com todos labels y[i] de cada instancia X[i].\n",
    "        \"\"\"\n",
    "        # Escreva seu codigo entre estas duas linhas\n",
    "        dist = self.compute_distances_two_loops(X)\n",
    "        return self.predict_labels(dists, k)\n",
    "        # Escreva seu codigo entre estas duas linhas\n",
    "\n",
    "    def compute_distances_two_loops(self, X):\n",
    "        \"\"\"\n",
    "        Computa a distancia entre cada ponto de teste em X e cada ponto de\n",
    "        treino em self.X_train usando loops aninhados para os dados de treino e\n",
    "        teste.\n",
    "\n",
    "        Inputs:\n",
    "        - X: Array numpy (num_test, D) com os dados de teste\n",
    "\n",
    "        Returns:\n",
    "        - dists: Array numpy (num_test, num_train) onde a dists[i, j] e a \n",
    "        distancia Euclidiana entre o i-esimo ponto de teste e o j-esimo ponto\n",
    "        de treino.\n",
    "        \"\"\"\n",
    "        num_test = X.shape[0]\n",
    "        num_train = self.X_train.shape[0]\n",
    "        dists = np.zeros((num_test, num_train))\n",
    "\n",
    "        for i in tqdm(range(num_test), desc='calc dists'):\n",
    "            for j in range(num_train):\n",
    "                # TODO:\n",
    "                # Realize a computação da distancia L2 (Euclidiana)\n",
    "                # entre o i-esimo ponto do teste e o j-esimo ponto\n",
    "                # do treino e armazene o resultado em dists[i, j]\n",
    "                # Nao use mais que estes dois loops, nem np.linalg.norm().\n",
    "\n",
    "                # Escreva seu codigo entre estas duas linhas\n",
    "                dists[i][j] = self._dist(X[i], X_train[j])\n",
    "        return dists\n",
    "                # Escreva seu codigo entre estas duas linhas\n",
    "\n",
    "    def predict_labels(self, dists, k=1):\n",
    "        \"\"\"\n",
    "        Dada uma matriz de distancias entre pontos de teste e pontos de treino,\n",
    "        prediz um label para cada ponto de teste.\n",
    "\n",
    "        Inputs:\n",
    "        - dists: Um array numpy de forma (num_test, num_train), onde dists[i, j]\n",
    "        e a distancia entre o i-esimo elemento do teste e o j-esimo elemento\n",
    "        do treino.\n",
    "\n",
    "        Returns:\n",
    "        - y: Numpy array com o formato (num_test,) com os labels das instancias\n",
    "        de teste.\n",
    "        \"\"\"\n",
    "        num_test = dists.shape[0]\n",
    "        y_pred = np.zeros(num_test)\n",
    "\n",
    "        # Loop que itera por cada linha da matriz de distancias\n",
    "        for i in range(num_test):\n",
    "\n",
    "            # Lista na qual serao armazenados os k vizinhos mais proximos da\n",
    "            # iteracao atual do loop.\n",
    "            closest_y = []\n",
    "\n",
    "            # TODO:\n",
    "            # Use a matriz de distancias passada nos argumentos da funcao\n",
    "            # para encontrar os 'k' vizinhos mais proximos da i-esima instancia\n",
    "            # de teste.\n",
    "            # DICA: Use a funcao numpy.argsort.\n",
    "\n",
    "            # Escreva seu codigo entre estas duas linhas\n",
    "            closest_dist = np.argsort(dists[i])\n",
    "            closest_y = closest_dist[0:k]\n",
    "            # Escreva seu codigo entre estas duas linhas\n",
    "\n",
    "            # TODO:\n",
    "            # Agora que voce possui os k vizinhos, realize uma votacao para\n",
    "            # descobrir qual dos labels e o mais frequente. Em caso de empate,\n",
    "            # escolha o menor dos labels.\n",
    "            # DICA: Pesquise use as funcoes do numpy.\n",
    "\n",
    "            # Escreva seu codigo entre estas duas linhas\n",
    "            counts = np.bincount([self.y_train[y] for y  in closest_y])\n",
    "            y_pred[i] = np.argmax(counts)\n",
    "            \n",
    "        return y_pred\n",
    "            # Escreva seu codigo entre estas duas linhas\n",
    "\n"
   ]
  },
  {
   "cell_type": "code",
   "execution_count": 5,
   "metadata": {},
   "outputs": [
    {
     "name": "stdout",
     "output_type": "stream",
     "text": [
      "Vector:\n",
      "[1 2 3 1 2 1 1 1 3 2 2 1]\n",
      "Counts:\n",
      "[0 6 4 2]\n",
      "Argmax:\n",
      "1\n"
     ]
    }
   ],
   "source": [
    "vec = np.array([1,2,3,1,2,1,1,1,3,2,2,1])\n",
    "\n",
    "print('Vector:')\n",
    "print(vec)\n",
    "\n",
    "counts = np.bincount(vec)\n",
    "print('Counts:')\n",
    "print(counts)\n",
    "\n",
    "print('Argmax:')\n",
    "print(np.argmax(counts))"
   ]
  },
  {
   "cell_type": "code",
   "execution_count": 6,
   "metadata": {},
   "outputs": [
    {
     "name": "stdout",
     "output_type": "stream",
     "text": [
      "Train format:  (1437, 64)\n"
     ]
    }
   ],
   "source": [
    "# Inicializando o classificador kNN e alimentando com os dados do treino...\n",
    "kNN = KNearestNeighbor()\n",
    "kNN.train(X_train, y_train)"
   ]
  },
  {
   "cell_type": "markdown",
   "metadata": {},
   "source": [
    "## Implementando o kNN\n",
    "Agora que possuímos nossos dados, podemos implementar nosso modelo, o kNN(K-Nearest Neighbor).\n",
    "\n",
    "Neste dever de casa, propomos 3 implementações diferentes do mesmo modelo, sendo a última um desafio!\n",
    "\n",
    "Vamos por partes! Começemos pela versão mais simples (e ineficiente) do kNN. Acesse o arquivo ```kNN.py``` e vá até o método ```compute_distances_two_loops```. Nela, você deve calcular o kNN com dois loops aninhados, um que itera por todos os dados do conjunto de teste e outro que itera no conjunto de treino. Quando terminar, volte aqui e execute a célula abaixo. Boa sorte!\n"
   ]
  },
  {
   "cell_type": "code",
   "execution_count": 7,
   "metadata": {},
   "outputs": [
    {
     "name": "stderr",
     "output_type": "stream",
     "text": [
      "calc dists: 100%|██████████| 360/360 [01:10<00:00,  5.26it/s]"
     ]
    },
    {
     "name": "stdout",
     "output_type": "stream",
     "text": [
      "(360, 1437)\n"
     ]
    },
    {
     "name": "stderr",
     "output_type": "stream",
     "text": [
      "\n"
     ]
    }
   ],
   "source": [
    "dists = kNN.compute_distances_two_loops(X_test)\n",
    "print(dists.shape)"
   ]
  },
  {
   "cell_type": "code",
   "execution_count": 8,
   "metadata": {},
   "outputs": [
    {
     "data": {
      "image/png": "[encoded data removed]",
      "text/plain": [
       "<Figure size 432x288 with 1 Axes>"
      ]
     },
     "metadata": {},
     "output_type": "display_data"
    }
   ],
   "source": [
    "plt.imshow(dists, interpolation='none')\n",
    "plt.ylabel(\"Exemplos do teste\")\n",
    "plt.xlabel(\"Exemplos do treino\")\n",
    "plt.title(\"Visualização 'treino X teste'\")\n",
    "plt.show()"
   ]
  },
  {
   "cell_type": "markdown",
   "metadata": {},
   "source": [
    "Na imagem acima, quanto mais escura um ponto, menor é o valor da distância. A partir disso, tente refletir por algum tempo sobre o que significaria caso houvesse uma linha completamente branca ou uma coluna completamente branca no gráfico."
   ]
  },
  {
   "cell_type": "markdown",
   "metadata": {},
   "source": [
    "## Precisão da classificação\n",
    "\n",
    "Agora que já computamos as distâncias, você precisa finalizar o processo de classficação através da inferência de cada um dos itens do teste. Vá até a função ```predict_labels``` no ```kNN.py``` e implemente o processo de classficação do kNN como visto em sala de aula. Confira o material disponibilizado ou entre em contato com os ministrantes caso ainda restem dúvidas! Boa sorte!"
   ]
  },
  {
   "cell_type": "code",
   "execution_count": 9,
   "metadata": {},
   "outputs": [
    {
     "name": "stdout",
     "output_type": "stream",
     "text": [
      "Precisão 357 / 360 => 0.991667\n"
     ]
    }
   ],
   "source": [
    "y_test_pred = kNN.predict_labels(dists, k=1)\n",
    "num_correct = np.sum(y_test_pred == y_test)\n",
    "accuracy = float(num_correct) / len(y_test)\n",
    "print('Precisão %d / %d => %f' % (num_correct, len(y_test), accuracy))\n"
   ]
  },
  {
   "cell_type": "code",
   "execution_count": 10,
   "metadata": {},
   "outputs": [],
   "source": [
    "def test(kNN, X, y_test, k):\n",
    "    y_test_pred = kNN.predict(X, k)\n",
    "    num_correct = np.sum(y_test_pred == y_test)\n",
    "    accuracy = float(num_correct) / len(y_test)\n",
    "    print('Precisão %d / %d => %f' % (num_correct, len(y_test), accuracy))"
   ]
  },
  {
   "cell_type": "code",
   "execution_count": 11,
   "metadata": {},
   "outputs": [
    {
     "name": "stderr",
     "output_type": "stream",
     "text": [
      "calc dists: 100%|██████████| 360/360 [01:15<00:00,  4.61it/s]"
     ]
    },
    {
     "name": "stdout",
     "output_type": "stream",
     "text": [
      "Precisão 356 / 360 => 0.988889\n"
     ]
    },
    {
     "name": "stderr",
     "output_type": "stream",
     "text": [
      "\n"
     ]
    }
   ],
   "source": [
    "test(kNN, X_test, y_test, k=2)"
   ]
  },
  {
   "cell_type": "code",
   "execution_count": 12,
   "metadata": {},
   "outputs": [
    {
     "name": "stderr",
     "output_type": "stream",
     "text": [
      "calc dists: 100%|██████████| 360/360 [01:15<00:00,  6.74it/s]\n"
     ]
    },
    {
     "name": "stdout",
     "output_type": "stream",
     "text": [
      "Precisão 356 / 360 => 0.988889\n"
     ]
    }
   ],
   "source": [
    "test(kNN, X_test, y_test, k=3)"
   ]
  },
  {
   "cell_type": "code",
   "execution_count": 13,
   "metadata": {},
   "outputs": [
    {
     "name": "stderr",
     "output_type": "stream",
     "text": [
      "calc dists: 100%|██████████| 360/360 [01:18<00:00,  4.26it/s]"
     ]
    },
    {
     "name": "stdout",
     "output_type": "stream",
     "text": [
      "Precisão 354 / 360 => 0.983333\n"
     ]
    },
    {
     "name": "stderr",
     "output_type": "stream",
     "text": [
      "\n"
     ]
    }
   ],
   "source": [
    "test(kNN, X_test, y_test, k=4)"
   ]
  },
  {
   "cell_type": "code",
   "execution_count": 14,
   "metadata": {},
   "outputs": [
    {
     "name": "stderr",
     "output_type": "stream",
     "text": [
      "calc dists: 100%|██████████| 360/360 [01:17<00:00,  4.61it/s]"
     ]
    },
    {
     "name": "stdout",
     "output_type": "stream",
     "text": [
      "Precisão 353 / 360 => 0.980556\n"
     ]
    },
    {
     "name": "stderr",
     "output_type": "stream",
     "text": [
      "\n"
     ]
    }
   ],
   "source": [
    "test(kNN, X_test, y_test, k=5)"
   ]
  },
  {
   "cell_type": "markdown",
   "metadata": {},
   "source": [
    "Antes de finalizar o *homework*, experimente diversos valores para o hiperparâmetro \"k\"."
   ]
  },
  {
   "cell_type": "markdown",
   "metadata": {},
   "source": [
    "Excelente! Você chegou ao fim do homework! Esperamos que você tenha aprendido muito com este dever de casa!\n",
    "Em caso de dúvidas, fique à vontade para falar com o ministrante da aula, João Pedro R. Mattos através do email (joao_pedro_mattos@hotmail.com) ou do Telegram (@joaopedromattos)."
   ]
  }
 ],
 "metadata": {
  "kernelspec": {
   "display_name": "Python 3",
   "language": "python",
   "name": "python3"
  },
  "language_info": {
   "codemirror_mode": {
    "name": "ipython",
    "version": 3
   },
   "file_extension": ".py",
   "mimetype": "text/x-python",
   "name": "python",
   "nbconvert_exporter": "python",
   "pygments_lexer": "ipython3",
   "version": "3.6.8"
  }
 },
 "nbformat": 4,
 "nbformat_minor": 2
}
