{
 "cells": [
  {
   "cell_type": "markdown",
   "metadata": {
    "colab_type": "text",
    "id": "PgPyAupMudny"
   },
   "source": [
    "# Exercícios Python e Numpy\n",
    "\n",
    "O objetivo desse notebook é ajudar na fixação dos conteúdos que passamos na aula de Python e Numpy. Sabemos que acabamos passando meio rápido durante a aula, então o objetivo aqui é conseguir treinar os conceitos para você conseguir usa-los na prática mais tarde.\n",
    "\n",
    "Qualquer dúvida pode ficar a vontade para perguntar no Slack ou diretamente para gente, vamos ficar felizes em ajudar :)"
   ]
  },
  {
   "cell_type": "markdown",
   "metadata": {
    "colab_type": "text",
    "id": "0ZKLZ569udn6"
   },
   "source": [
    "## Python\n",
    "\n",
    "Aqui na parte de Python vamos passar por algumas das principais coisas que você precisa saber, é claro que não colocamos tudo de importante da linguagem, só o mais necessário."
   ]
  },
  {
   "cell_type": "markdown",
   "metadata": {
    "colab_type": "text",
    "id": "_6oSkTrAudn8"
   },
   "source": [
    "### Variáveis"
   ]
  },
  {
   "cell_type": "code",
   "execution_count": null,
   "metadata": {
    "colab": {},
    "colab_type": "code",
    "id": "YKmfh53Kudn9"
   },
   "outputs": [],
   "source": [
    "# Declare uma variavel chamada a e atribua o valor 10 a ela\n",
    "a = 10"
   ]
  },
  {
   "cell_type": "code",
   "execution_count": 2,
   "metadata": {
    "colab": {
     "base_uri": "https://localhost:8080/",
     "height": 34
    },
    "colab_type": "code",
    "id": "MafTI72HudoG",
    "outputId": "4987e21c-5d13-4f94-c5f5-5dc932591877"
   },
   "outputs": [
    {
     "name": "stdout",
     "output_type": "stream",
     "text": [
      "10\n"
     ]
    }
   ],
   "source": [
    "# Imprime essa variavel que você acabou de criar\n",
    "print(a)"
   ]
  },
  {
   "cell_type": "code",
   "execution_count": null,
   "metadata": {
    "colab": {},
    "colab_type": "code",
    "id": "yzbbBrd2udoK"
   },
   "outputs": [],
   "source": [
    "# Crie uma outra variavel b que recebe o valor de a so que como string\n",
    "b = str(a)"
   ]
  },
  {
   "cell_type": "code",
   "execution_count": null,
   "metadata": {
    "colab": {},
    "colab_type": "code",
    "id": "twZIBaXGudoO"
   },
   "outputs": [],
   "source": [
    "# Combine sua variavel b a variavel abaixo para obter a string \"Hello 10\" em uma variavel d\n",
    "c = \"Hello \"\n",
    "d = c + b"
   ]
  },
  {
   "cell_type": "code",
   "execution_count": 5,
   "metadata": {
    "colab": {
     "base_uri": "https://localhost:8080/",
     "height": 34
    },
    "colab_type": "code",
    "id": "7ND6UrTJudoT",
    "outputId": "eecc8e0e-75d6-4642-821c-053eab5de64d"
   },
   "outputs": [
    {
     "name": "stdout",
     "output_type": "stream",
     "text": [
      "Hello 10\n"
     ]
    }
   ],
   "source": [
    "# Imprima a variável d\n",
    "print(d)"
   ]
  },
  {
   "cell_type": "markdown",
   "metadata": {
    "colab_type": "text",
    "id": "kDjHoKI3udoX"
   },
   "source": [
    "### Strings"
   ]
  },
  {
   "cell_type": "code",
   "execution_count": null,
   "metadata": {
    "colab": {},
    "colab_type": "code",
    "id": "14AuvioCudoY"
   },
   "outputs": [],
   "source": [
    "my_str = 'Insira uma frase aqui!'"
   ]
  },
  {
   "cell_type": "code",
   "execution_count": 8,
   "metadata": {
    "colab": {
     "base_uri": "https://localhost:8080/",
     "height": 34
    },
    "colab_type": "code",
    "id": "1knjs-xhudoh",
    "outputId": "733e33c2-1a99-40fb-922e-1d545e6046c3"
   },
   "outputs": [
    {
     "name": "stdout",
     "output_type": "stream",
     "text": [
      "Insira uma frase aqui?\n"
     ]
    }
   ],
   "source": [
    "# Substitua a exclamação da frase por uma interrogação\n",
    "# (Dica: A funcão altera inplace ou retorna uma copia modificada?)\n",
    "my_new_str = my_str.replace('!', '?') # A funçao retorna uma cópia modificada\n",
    "print(my_new_str)"
   ]
  },
  {
   "cell_type": "code",
   "execution_count": 9,
   "metadata": {
    "colab": {
     "base_uri": "https://localhost:8080/",
     "height": 34
    },
    "colab_type": "code",
    "id": "nO7RVduaudoq",
    "outputId": "5338c502-d58b-4ae3-9cca-195250527bf8"
   },
   "outputs": [
    {
     "name": "stdout",
     "output_type": "stream",
     "text": [
      "['Insira', 'uma', 'frase', 'aqui?']\n"
     ]
    }
   ],
   "source": [
    "# Crie uma lista \"my_words\" com cada palavra a frase\n",
    "my_words = my_new_str.split()\n",
    "print(my_words)"
   ]
  },
  {
   "cell_type": "markdown",
   "metadata": {
    "colab_type": "text",
    "id": "fzDjQZFLudov"
   },
   "source": [
    "### Listas"
   ]
  },
  {
   "cell_type": "code",
   "execution_count": null,
   "metadata": {
    "colab": {},
    "colab_type": "code",
    "id": "oOYakv0Budox"
   },
   "outputs": [],
   "source": [
    "lista = [1, 23, 31, 40, 56, 16]"
   ]
  },
  {
   "cell_type": "code",
   "execution_count": 11,
   "metadata": {
    "colab": {
     "base_uri": "https://localhost:8080/",
     "height": 119
    },
    "colab_type": "code",
    "id": "YbK7ZWhbudo2",
    "outputId": "36567f38-557c-460e-f5a6-af770a58aae4"
   },
   "outputs": [
    {
     "name": "stdout",
     "output_type": "stream",
     "text": [
      "1\n",
      "23\n",
      "31\n",
      "40\n",
      "56\n",
      "16\n"
     ]
    }
   ],
   "source": [
    "# Faça um for que imprima cada elemento da lista \"lista\" (Lembre-se que o for em python é um for each)\n",
    "for numero in lista:\n",
    "  print(numero)"
   ]
  },
  {
   "cell_type": "code",
   "execution_count": 13,
   "metadata": {
    "colab": {
     "base_uri": "https://localhost:8080/",
     "height": 119
    },
    "colab_type": "code",
    "id": "Pzl2o7Ouudo6",
    "outputId": "2007ab68-3054-44df-a6e0-ffb2efca483f"
   },
   "outputs": [
    {
     "name": "stdout",
     "output_type": "stream",
     "text": [
      "2\n",
      "46\n",
      "62\n",
      "80\n",
      "112\n",
      "32\n"
     ]
    }
   ],
   "source": [
    "# Faça um for que imprima o dobro de cada elemento da lista \"lista\" \n",
    "for numero in lista:\n",
    "  print(2 * numero)"
   ]
  },
  {
   "cell_type": "code",
   "execution_count": 15,
   "metadata": {
    "colab": {
     "base_uri": "https://localhost:8080/",
     "height": 34
    },
    "colab_type": "code",
    "id": "zLqstFOUudo-",
    "outputId": "f07cca2a-b8d8-44f8-dd82-3335a91ad2a3"
   },
   "outputs": [
    {
     "name": "stdout",
     "output_type": "stream",
     "text": [
      "[2, 46, 62, 80, 112, 32]\n"
     ]
    }
   ],
   "source": [
    "# Gere uma lista chamada \"dobro\" com o dobro de cada elemento de \"lista\" usando list comprehension\n",
    "dobro = [2 * numero for numero in lista]\n",
    "print(dobro)"
   ]
  },
  {
   "cell_type": "code",
   "execution_count": 17,
   "metadata": {
    "colab": {
     "base_uri": "https://localhost:8080/",
     "height": 34
    },
    "colab_type": "code",
    "id": "meEWa3dfudpB",
    "outputId": "4f9ce551-7c83-462f-fef8-dbb28f2cb982"
   },
   "outputs": [
    {
     "name": "stdout",
     "output_type": "stream",
     "text": [
      "[40, 56, 16]\n"
     ]
    }
   ],
   "source": [
    "# Crie uma nova lista chamada \"pares\"\n",
    "# Faça um for que itetere sobre a lista \"lista\" e para cada elemento impar coloque ele no fim da lista \"pares\"\n",
    "# Imprima a lista \"pares\"\n",
    "pares = []\n",
    "for numero in lista:\n",
    "  if numero % 2 == 0:\n",
    "    pares.append(numero)\n",
    "\n",
    "print(pares)"
   ]
  },
  {
   "cell_type": "code",
   "execution_count": null,
   "metadata": {
    "colab": {},
    "colab_type": "code",
    "id": "6_5t05fuudpE"
   },
   "outputs": [],
   "source": [
    "lista2 = ['oi', 2, 2.5, 'top', 'python', 45]"
   ]
  },
  {
   "cell_type": "code",
   "execution_count": 20,
   "metadata": {
    "colab": {
     "base_uri": "https://localhost:8080/",
     "height": 68
    },
    "colab_type": "code",
    "id": "sOQj3joaudpM",
    "outputId": "fb2c670f-fe61-42ae-b089-d281b2b41df9"
   },
   "outputs": [
    {
     "name": "stdout",
     "output_type": "stream",
     "text": [
      "oi\n",
      "top\n",
      "python\n"
     ]
    }
   ],
   "source": [
    "# Faça um for pela \"lista2\" e imprima todos os elementos que são strings (Dica: pesquise pela função type())\n",
    "for elemento in lista2:\n",
    "  if type(elemento) == str:\n",
    "    print(elemento)"
   ]
  },
  {
   "cell_type": "markdown",
   "metadata": {
    "colab_type": "text",
    "id": "I9aiOrQ0udpS"
   },
   "source": [
    "#### Indexando"
   ]
  },
  {
   "cell_type": "code",
   "execution_count": null,
   "metadata": {
    "colab": {},
    "colab_type": "code",
    "id": "yzfpZf8Sudpa"
   },
   "outputs": [],
   "source": [
    "my_list = [0, 10, 20, 30, 40, 50, 60, 70]"
   ]
  },
  {
   "cell_type": "code",
   "execution_count": 24,
   "metadata": {
    "colab": {
     "base_uri": "https://localhost:8080/",
     "height": 34
    },
    "colab_type": "code",
    "id": "usZ2Ny80udpj",
    "outputId": "f68fa7d1-b422-4fc6-dec7-5dde3eaccd68"
   },
   "outputs": [
    {
     "data": {
      "text/plain": [
       "70"
      ]
     },
     "execution_count": 24,
     "metadata": {
      "tags": []
     },
     "output_type": "execute_result"
    }
   ],
   "source": [
    "# Selecione o ultimo elemento da lista\n",
    "my_list[-1]"
   ]
  },
  {
   "cell_type": "code",
   "execution_count": 27,
   "metadata": {
    "colab": {
     "base_uri": "https://localhost:8080/",
     "height": 34
    },
    "colab_type": "code",
    "id": "qRiS57hNudpq",
    "outputId": "aae4a5c9-fd18-4c85-e347-05ef2f1ed493"
   },
   "outputs": [
    {
     "data": {
      "text/plain": [
       "[0, 10, 20, 30]"
      ]
     },
     "execution_count": 27,
     "metadata": {
      "tags": []
     },
     "output_type": "execute_result"
    }
   ],
   "source": [
    "# Selecione do primeiro até o 4 elemento da lista\n",
    "my_list[:4]"
   ]
  },
  {
   "cell_type": "code",
   "execution_count": 28,
   "metadata": {
    "colab": {
     "base_uri": "https://localhost:8080/",
     "height": 34
    },
    "colab_type": "code",
    "id": "qpNd_EIBudpw",
    "outputId": "fd4465e3-6419-41e2-edce-d8b73171911d"
   },
   "outputs": [
    {
     "data": {
      "text/plain": [
       "[10, 20, 30, 40]"
      ]
     },
     "execution_count": 28,
     "metadata": {
      "tags": []
     },
     "output_type": "execute_result"
    }
   ],
   "source": [
    "# Selecione do segundo elemento da lista até o quinto\n",
    "my_list[1:5]"
   ]
  },
  {
   "cell_type": "code",
   "execution_count": 29,
   "metadata": {
    "colab": {
     "base_uri": "https://localhost:8080/",
     "height": 34
    },
    "colab_type": "code",
    "id": "CaAiHbTzudp1",
    "outputId": "7668950a-8ec0-4a6e-97bf-43ced7adb8d6"
   },
   "outputs": [
    {
     "data": {
      "text/plain": [
       "[0, 10, 20, 30, 40, 50, 60]"
      ]
     },
     "execution_count": 29,
     "metadata": {
      "tags": []
     },
     "output_type": "execute_result"
    }
   ],
   "source": [
    "# Selecione do primeiro elemento da lista até o penultimo\n",
    "my_list[:-1]"
   ]
  },
  {
   "cell_type": "markdown",
   "metadata": {
    "colab_type": "text",
    "id": "Zmw088ypudp4"
   },
   "source": [
    "### Dicionários"
   ]
  },
  {
   "cell_type": "code",
   "execution_count": null,
   "metadata": {
    "colab": {},
    "colab_type": "code",
    "id": "1G5nqKy5udp6"
   },
   "outputs": [],
   "source": [
    "lista = ['a', 'a', 'b', 'a', 'c', 'd', 'e', 'b', 'b', 'c']"
   ]
  },
  {
   "cell_type": "code",
   "execution_count": null,
   "metadata": {
    "colab": {},
    "colab_type": "code",
    "id": "8aIvrHv4udp-"
   },
   "outputs": [],
   "source": [
    "# Crie um dicionario que contenha a contagem de cada elemento do vetor\n",
    "my_dict = {}\n",
    "for numero in lista:\n",
    "  if numero in my_dict:\n",
    "    my_dict[numero] += 1\n",
    "  else:\n",
    "    my_dict[numero] = 1"
   ]
  },
  {
   "cell_type": "code",
   "execution_count": 32,
   "metadata": {
    "colab": {
     "base_uri": "https://localhost:8080/",
     "height": 34
    },
    "colab_type": "code",
    "id": "fBbXhh9_udqC",
    "outputId": "dcc5e8bb-498b-4490-8afb-6a527dcc0825"
   },
   "outputs": [
    {
     "name": "stdout",
     "output_type": "stream",
     "text": [
      "{'a': 3, 'b': 3, 'c': 2, 'd': 1, 'e': 1}\n"
     ]
    }
   ],
   "source": [
    "print(my_dict)"
   ]
  },
  {
   "cell_type": "markdown",
   "metadata": {
    "colab_type": "text",
    "id": "KS8tbtXjudqG"
   },
   "source": [
    "### Funções"
   ]
  },
  {
   "cell_type": "code",
   "execution_count": null,
   "metadata": {
    "colab": {},
    "colab_type": "code",
    "id": "cxYnucwqudqH"
   },
   "outputs": [],
   "source": [
    "# Crie uma função soma_elementos() que recebe uma lista e retorna a soma de todos os seus elementos\n",
    "def soma_elementos(lista):\n",
    "    soma = 0\n",
    "    for numero in lista:\n",
    "      soma += numero\n",
    "    return soma"
   ]
  },
  {
   "cell_type": "code",
   "execution_count": 34,
   "metadata": {
    "colab": {
     "base_uri": "https://localhost:8080/",
     "height": 34
    },
    "colab_type": "code",
    "id": "ZXcMdgYtudqK",
    "outputId": "ed1eb013-ac73-4836-eee0-164dddbc098c"
   },
   "outputs": [
    {
     "data": {
      "text/plain": [
       "15"
      ]
     },
     "execution_count": 34,
     "metadata": {
      "tags": []
     },
     "output_type": "execute_result"
    }
   ],
   "source": [
    "soma_elementos([1, 2, 3, 4, 5])"
   ]
  },
  {
   "cell_type": "code",
   "execution_count": 35,
   "metadata": {
    "colab": {
     "base_uri": "https://localhost:8080/",
     "height": 34
    },
    "colab_type": "code",
    "id": "NaUOBDcjudqO",
    "outputId": "3a39b14a-1dab-4914-8e27-3a32e5011d14"
   },
   "outputs": [
    {
     "data": {
      "text/plain": [
       "9"
      ]
     },
     "execution_count": 35,
     "metadata": {
      "tags": []
     },
     "output_type": "execute_result"
    }
   ],
   "source": [
    "soma_elementos([-1, 5, 7, -2])"
   ]
  },
  {
   "cell_type": "code",
   "execution_count": null,
   "metadata": {
    "colab": {},
    "colab_type": "code",
    "id": "A5YWCYl8udqS"
   },
   "outputs": [],
   "source": [
    "# Crie uma função produto_escalar() que recebe duas listas de tamanho igual e calcula o produto escalar entre elas\n",
    "# Dica: Utilize a função zip\n",
    "def produto_escalar(a, b):\n",
    "  produto_escalar = 0\n",
    "  for a_i, b_i in zip(a, b):\n",
    "    produto_escalar += (a_i * b_i)\n",
    "  return produto_escalar"
   ]
  },
  {
   "cell_type": "code",
   "execution_count": 40,
   "metadata": {
    "colab": {
     "base_uri": "https://localhost:8080/",
     "height": 34
    },
    "colab_type": "code",
    "id": "Qy7DA4cbudqV",
    "outputId": "111964fe-a9c8-477c-b76f-0e3121c6d254"
   },
   "outputs": [
    {
     "data": {
      "text/plain": [
       "29"
      ]
     },
     "execution_count": 40,
     "metadata": {
      "tags": []
     },
     "output_type": "execute_result"
    }
   ],
   "source": [
    "produto_escalar([1, 2, 3], [0, 4, 7])"
   ]
  },
  {
   "cell_type": "code",
   "execution_count": 41,
   "metadata": {
    "colab": {
     "base_uri": "https://localhost:8080/",
     "height": 34
    },
    "colab_type": "code",
    "id": "WbizenfCudqY",
    "outputId": "55252b55-0bcf-46d5-a513-e4de5ae854cc"
   },
   "outputs": [
    {
     "data": {
      "text/plain": [
       "391"
      ]
     },
     "execution_count": 41,
     "metadata": {
      "tags": []
     },
     "output_type": "execute_result"
    }
   ],
   "source": [
    "produto_escalar([10, 20, 40, 1], [23, 4, 2, 1])"
   ]
  },
  {
   "cell_type": "code",
   "execution_count": null,
   "metadata": {
    "colab": {},
    "colab_type": "code",
    "id": "3cOBp_lUudqd"
   },
   "outputs": [],
   "source": [
    "# Crie uma função par_ou_impar() que recebe um numero n é para cada numero de 1 a n imprime o numero\n",
    "# seguido de par ou impar, dependendo do que ele seja. Caso o usuário não coloque nada n deve valer 20\n",
    "# Exemplo: par_ou_impar(4)\n",
    "#   1 Impar\n",
    "#   2 Par\n",
    "#   3 Impar\n",
    "#   4 Par\n",
    "\n",
    "def par_ou_impar(n):\n",
    "  for i in range(1, n + 1):\n",
    "    if i % 2 == 0:\n",
    "      print(str(i) + ' Par')\n",
    "    else:\n",
    "      print(str(i) + ' Impar')"
   ]
  },
  {
   "cell_type": "code",
   "execution_count": 43,
   "metadata": {
    "colab": {
     "base_uri": "https://localhost:8080/",
     "height": 272
    },
    "colab_type": "code",
    "id": "r5M8DIcvudqg",
    "outputId": "02af8bf5-2d6e-4247-d3f5-794581cc7731"
   },
   "outputs": [
    {
     "name": "stdout",
     "output_type": "stream",
     "text": [
      "1 Impar\n",
      "2 Par\n",
      "3 Impar\n",
      "4 Par\n",
      "5 Impar\n",
      "6 Par\n",
      "7 Impar\n",
      "8 Par\n",
      "9 Impar\n",
      "10 Par\n",
      "11 Impar\n",
      "12 Par\n",
      "13 Impar\n",
      "14 Par\n",
      "15 Impar\n"
     ]
    }
   ],
   "source": [
    "par_ou_impar(15)"
   ]
  },
  {
   "cell_type": "code",
   "execution_count": null,
   "metadata": {
    "colab": {},
    "colab_type": "code",
    "id": "HMoKQQahudql"
   },
   "outputs": [],
   "source": [
    "# Crie uma função diga_indice() que recebe uma lista e imprime o indice de cada elemento e em seguida \n",
    "# o proprio elemento\n",
    "# Exemplo: diga_indice(['oi', 'tudo', 'bem'])\n",
    "#    0 oi\n",
    "#    1 tudo\n",
    "#    2 bem\n",
    "# (DICA: Pesquise pela função enumerate)\n",
    "\n",
    "def diga_indice(lista):\n",
    "  for idx, elem in enumerate(lista):\n",
    "    print(idx, elem)"
   ]
  },
  {
   "cell_type": "code",
   "execution_count": 46,
   "metadata": {
    "colab": {
     "base_uri": "https://localhost:8080/",
     "height": 68
    },
    "colab_type": "code",
    "id": "msUdDzDRudqo",
    "outputId": "6793145b-9a49-4369-c039-a7fff43caf30"
   },
   "outputs": [
    {
     "name": "stdout",
     "output_type": "stream",
     "text": [
      "0 1\n",
      "1 2\n",
      "2 3\n"
     ]
    }
   ],
   "source": [
    "diga_indice(['1', '2', '3'])"
   ]
  },
  {
   "cell_type": "code",
   "execution_count": 47,
   "metadata": {
    "colab": {
     "base_uri": "https://localhost:8080/",
     "height": 102
    },
    "colab_type": "code",
    "id": "EieYk-xQudqs",
    "outputId": "28b14e7b-a6e8-4805-fb83-5afd3a79a2ef"
   },
   "outputs": [
    {
     "name": "stdout",
     "output_type": "stream",
     "text": [
      "0 a\n",
      "1 b\n",
      "2 c\n",
      "3 d\n",
      "4 e\n"
     ]
    }
   ],
   "source": [
    "diga_indice(['a', 'b', 'c', 'd', 'e'])"
   ]
  },
  {
   "cell_type": "markdown",
   "metadata": {
    "colab_type": "text",
    "id": "-qALYMu2udqw"
   },
   "source": [
    "## Numpy\n",
    "\n",
    "O elemento central do numpy são os arrays, então aqui vamos treinar muitas coisas sobre eles"
   ]
  },
  {
   "cell_type": "code",
   "execution_count": null,
   "metadata": {
    "colab": {},
    "colab_type": "code",
    "id": "NrTI8kajudqx"
   },
   "outputs": [],
   "source": [
    "# Importando a biblioteca\n",
    "import numpy as np"
   ]
  },
  {
   "cell_type": "markdown",
   "metadata": {
    "colab_type": "text",
    "id": "X9Xssezwudq_"
   },
   "source": [
    "### Arrays"
   ]
  },
  {
   "cell_type": "code",
   "execution_count": null,
   "metadata": {
    "colab": {},
    "colab_type": "code",
    "id": "8cfGCXopudrA"
   },
   "outputs": [],
   "source": [
    "a = np.array([1, 2, 3, 4, 5, 6, 7])\n",
    "\n",
    "b = np.array([[1, 2, 3, 4],\n",
    "              [5, 6, 7, 8]])\n",
    "\n",
    "c = np.zeros((3,4))"
   ]
  },
  {
   "cell_type": "code",
   "execution_count": 51,
   "metadata": {
    "colab": {
     "base_uri": "https://localhost:8080/",
     "height": 68
    },
    "colab_type": "code",
    "id": "xiNwOpWYudrD",
    "outputId": "4506d41e-7dca-4580-f1bf-0eb53df49512"
   },
   "outputs": [
    {
     "name": "stdout",
     "output_type": "stream",
     "text": [
      "(7,)\n",
      "(2, 4)\n",
      "(3, 4)\n"
     ]
    }
   ],
   "source": [
    "# Pense em qual é a shape de cada um dos arrays acima\n",
    "# Depois de pensar imprima cada um deles para conferir sua resposta\n",
    "print(a.shape)\n",
    "print(b.shape)\n",
    "print(c.shape)"
   ]
  },
  {
   "cell_type": "code",
   "execution_count": 52,
   "metadata": {
    "colab": {
     "base_uri": "https://localhost:8080/",
     "height": 34
    },
    "colab_type": "code",
    "id": "tu13ovY4udrH",
    "outputId": "400bf910-9122-4cd7-b738-76a880a5f895"
   },
   "outputs": [
    {
     "name": "stdout",
     "output_type": "stream",
     "text": [
      "[15  9  3  0 14 15 16 22 19 16 12  8 13  6  3 10 19  3  2  3]\n"
     ]
    }
   ],
   "source": [
    "# Crie um array de uma dimenção com 20 elementos inteiros aletórios entre 0 e 23\n",
    "my_random_array = np.random.randint(24, size=(20))\n",
    "print(my_random_array)"
   ]
  },
  {
   "cell_type": "code",
   "execution_count": 53,
   "metadata": {
    "colab": {
     "base_uri": "https://localhost:8080/",
     "height": 85
    },
    "colab_type": "code",
    "id": "7_fAXaVCudrK",
    "outputId": "41fe1168-8aec-4cd7-b1cb-77d62948100d"
   },
   "outputs": [
    {
     "name": "stdout",
     "output_type": "stream",
     "text": [
      "[[1. 1. 1. 1. 1.]\n",
      " [1. 1. 1. 1. 1.]\n",
      " [1. 1. 1. 1. 1.]\n",
      " [1. 1. 1. 1. 1.]]\n"
     ]
    }
   ],
   "source": [
    "# Crie um array de uns com shape (4, 5)\n",
    "my_array = np.ones((4, 5))\n",
    "print(my_array)"
   ]
  },
  {
   "cell_type": "code",
   "execution_count": 54,
   "metadata": {
    "colab": {
     "base_uri": "https://localhost:8080/",
     "height": 85
    },
    "colab_type": "code",
    "id": "JRDbDYxTudrN",
    "outputId": "65501912-705e-4905-edbc-2e6be9fd8ff9"
   },
   "outputs": [
    {
     "name": "stdout",
     "output_type": "stream",
     "text": [
      "[[77. 77.]\n",
      " [77. 77.]\n",
      " [77. 77.]\n",
      " [77. 77.]]\n"
     ]
    }
   ],
   "source": [
    "# Crie um array shape (4, 2) onde cada entrada vale 77\n",
    "# (Dica: Talvez vc tenha que usar uma multiplicação)\n",
    "my_array = np.ones((4, 2)) * 77\n",
    "print(my_array)"
   ]
  },
  {
   "cell_type": "code",
   "execution_count": 58,
   "metadata": {
    "colab": {
     "base_uri": "https://localhost:8080/",
     "height": 34
    },
    "colab_type": "code",
    "id": "g1uVRkxNudrQ",
    "outputId": "ee447c69-d099-4705-dbef-390999241124"
   },
   "outputs": [
    {
     "name": "stdout",
     "output_type": "stream",
     "text": [
      "[  0  10  20  30  40  50  60  70  80  90 100]\n"
     ]
    }
   ],
   "source": [
    "# Gere um array chamado my_sequence com os numeros 0, 10, 20, 30, ..., 90, 100\n",
    "my_array = np.arange(0, 110, 10)\n",
    "print(my_array)"
   ]
  },
  {
   "cell_type": "markdown",
   "metadata": {
    "colab_type": "text",
    "id": "ViyZHnzOudrU"
   },
   "source": [
    "### Indexando"
   ]
  },
  {
   "cell_type": "code",
   "execution_count": 59,
   "metadata": {
    "colab": {
     "base_uri": "https://localhost:8080/",
     "height": 34
    },
    "colab_type": "code",
    "id": "ZLHCrfSbudrV",
    "outputId": "347a35b4-9603-4a7c-e429-68304449fc05"
   },
   "outputs": [
    {
     "name": "stdout",
     "output_type": "stream",
     "text": [
      "[ 8 48 21 20 33 47 22 46 31  1 16  8 43  3  1]\n"
     ]
    }
   ],
   "source": [
    "my_array = np.random.randint(50, size=(15,))\n",
    "print(my_array)"
   ]
  },
  {
   "cell_type": "code",
   "execution_count": 60,
   "metadata": {
    "colab": {
     "base_uri": "https://localhost:8080/",
     "height": 34
    },
    "colab_type": "code",
    "id": "4yUXigE4udrZ",
    "outputId": "5ff6ec9e-2792-449f-84e3-325ed57a584c"
   },
   "outputs": [
    {
     "data": {
      "text/plain": [
       "array([33, 47, 22, 46, 31,  1, 16])"
      ]
     },
     "execution_count": 60,
     "metadata": {
      "tags": []
     },
     "output_type": "execute_result"
    }
   ],
   "source": [
    "# Selecione todos os elementos entre o quinto e o decimo primeiro (intervalo fechado)\n",
    "my_array[4:11]"
   ]
  },
  {
   "cell_type": "code",
   "execution_count": 61,
   "metadata": {
    "colab": {
     "base_uri": "https://localhost:8080/",
     "height": 34
    },
    "colab_type": "code",
    "id": "eiHJsFSQudrc",
    "outputId": "30e1a7a0-88e9-4d46-dea0-5496ad904451"
   },
   "outputs": [
    {
     "data": {
      "text/plain": [
       "array([48, 21, 33, 47, 22, 46, 31, 43])"
      ]
     },
     "execution_count": 61,
     "metadata": {
      "tags": []
     },
     "output_type": "execute_result"
    }
   ],
   "source": [
    "# Selecione todos os elementos maiores que 20\n",
    "my_array[my_array > 20]"
   ]
  },
  {
   "cell_type": "code",
   "execution_count": null,
   "metadata": {
    "colab": {},
    "colab_type": "code",
    "id": "e1vhEAhHudri"
   },
   "outputs": [],
   "source": [
    "my_matrix = np.array([[1, 2, 3, 4],\n",
    "                      [5, 6, 7, 8],\n",
    "                      [9, 10, 11, 12],\n",
    "                      [13, 14, 15, 16]])"
   ]
  },
  {
   "cell_type": "code",
   "execution_count": 63,
   "metadata": {
    "colab": {
     "base_uri": "https://localhost:8080/",
     "height": 34
    },
    "colab_type": "code",
    "id": "MgC1x6vOudrl",
    "outputId": "c59a15e4-e7b3-4dc8-8b09-69778fd54fc7"
   },
   "outputs": [
    {
     "data": {
      "text/plain": [
       "3"
      ]
     },
     "execution_count": 63,
     "metadata": {
      "tags": []
     },
     "output_type": "execute_result"
    }
   ],
   "source": [
    "# Selecione o elemento na primeira linha da terceira coluna\n",
    "my_matrix[0, 2]"
   ]
  },
  {
   "cell_type": "code",
   "execution_count": 64,
   "metadata": {
    "colab": {
     "base_uri": "https://localhost:8080/",
     "height": 34
    },
    "colab_type": "code",
    "id": "USIVxUM-udrv",
    "outputId": "1dd534a7-fe10-43ae-e0b5-e55af7cbde93"
   },
   "outputs": [
    {
     "data": {
      "text/plain": [
       "4"
      ]
     },
     "execution_count": 64,
     "metadata": {
      "tags": []
     },
     "output_type": "execute_result"
    }
   ],
   "source": [
    "# Selecione o elemento na primeira linha da ultima coluna\n",
    "my_matrix[0, -1]"
   ]
  },
  {
   "cell_type": "code",
   "execution_count": 65,
   "metadata": {
    "colab": {
     "base_uri": "https://localhost:8080/",
     "height": 51
    },
    "colab_type": "code",
    "id": "bgvhJXQ4udry",
    "outputId": "cd3fb3dc-6b84-44f7-9db0-d6b6ea5eb10b"
   },
   "outputs": [
    {
     "data": {
      "text/plain": [
       "array([[ 6,  7],\n",
       "       [10, 11]])"
      ]
     },
     "execution_count": 65,
     "metadata": {
      "tags": []
     },
     "output_type": "execute_result"
    }
   ],
   "source": [
    "# Selecione os elementos da matriz para obter o seguinte\n",
    "# [[6, 7],\n",
    "#  [10, 11]]\n",
    "my_matrix[1:3, 1:3]"
   ]
  },
  {
   "cell_type": "code",
   "execution_count": 68,
   "metadata": {
    "colab": {
     "base_uri": "https://localhost:8080/",
     "height": 51
    },
    "colab_type": "code",
    "id": "dwqG09dqudr1",
    "outputId": "a9d2b98f-b635-440b-aac0-24b9170f683b"
   },
   "outputs": [
    {
     "data": {
      "text/plain": [
       "array([[2, 3, 4],\n",
       "       [6, 7, 8]])"
      ]
     },
     "execution_count": 68,
     "metadata": {
      "tags": []
     },
     "output_type": "execute_result"
    }
   ],
   "source": [
    "# Selecione os elementos da matriz para obter o seguinte\n",
    "# [[2, 3, 4],\n",
    "#  [6, 7, 8]]\n",
    "my_matrix[:2, 1:]"
   ]
  },
  {
   "cell_type": "code",
   "execution_count": 69,
   "metadata": {
    "colab": {
     "base_uri": "https://localhost:8080/",
     "height": 34
    },
    "colab_type": "code",
    "id": "LBwHU35audr3",
    "outputId": "5f33dc7f-cc3b-4596-95d0-40be449adfea"
   },
   "outputs": [
    {
     "data": {
      "text/plain": [
       "array([ 4,  8, 12, 16])"
      ]
     },
     "execution_count": 69,
     "metadata": {
      "tags": []
     },
     "output_type": "execute_result"
    }
   ],
   "source": [
    "# Selecione os elementos da ultima coluna inteira\n",
    "my_matrix[:, -1]"
   ]
  },
  {
   "cell_type": "code",
   "execution_count": 70,
   "metadata": {
    "colab": {
     "base_uri": "https://localhost:8080/",
     "height": 34
    },
    "colab_type": "code",
    "id": "29MbX2G9udsC",
    "outputId": "3ecf1346-b4e4-48e6-cc9d-53081def3537"
   },
   "outputs": [
    {
     "data": {
      "text/plain": [
       "array([5, 6, 7, 8])"
      ]
     },
     "execution_count": 70,
     "metadata": {
      "tags": []
     },
     "output_type": "execute_result"
    }
   ],
   "source": [
    "# Selecione os elementos da 2a linha inteira\n",
    "my_matrix[1, :]"
   ]
  },
  {
   "cell_type": "markdown",
   "metadata": {
    "colab_type": "text",
    "id": "iE6hZvGVudsE"
   },
   "source": [
    "### Operações"
   ]
  },
  {
   "cell_type": "code",
   "execution_count": 71,
   "metadata": {
    "colab": {
     "base_uri": "https://localhost:8080/",
     "height": 34
    },
    "colab_type": "code",
    "id": "68lJrGDRudsJ",
    "outputId": "94c7e058-208e-4f6a-e3a3-524d636e66e5"
   },
   "outputs": [
    {
     "name": "stdout",
     "output_type": "stream",
     "text": [
      "[0 1 6 3 3]\n"
     ]
    }
   ],
   "source": [
    "my_array = np.random.randint(10, size=(5,))\n",
    "print(my_array)"
   ]
  },
  {
   "cell_type": "code",
   "execution_count": 73,
   "metadata": {
    "colab": {
     "base_uri": "https://localhost:8080/",
     "height": 34
    },
    "colab_type": "code",
    "id": "XT7lO7KuudsM",
    "outputId": "6491b5d8-f8c7-4aad-ffee-47766b1c1bcf"
   },
   "outputs": [
    {
     "name": "stdout",
     "output_type": "stream",
     "text": [
      "[10 11 16 13 13]\n"
     ]
    }
   ],
   "source": [
    "# Some 10 a todos os elementos de my_array\n",
    "my_array_plus10 = my_array + 10\n",
    "print(my_array_plus10)"
   ]
  },
  {
   "cell_type": "code",
   "execution_count": 74,
   "metadata": {
    "colab": {
     "base_uri": "https://localhost:8080/",
     "height": 34
    },
    "colab_type": "code",
    "id": "0jh_3QiaudsP",
    "outputId": "0bc0d879-2181-4030-8993-9f6b37606897"
   },
   "outputs": [
    {
     "name": "stdout",
     "output_type": "stream",
     "text": [
      "[ 0  4 24 12 12]\n"
     ]
    }
   ],
   "source": [
    "# Multiplique todos os elementos de my_array por 4\n",
    "my_array_times4 = my_array * 4\n",
    "print(my_array_times4)"
   ]
  },
  {
   "cell_type": "code",
   "execution_count": 75,
   "metadata": {
    "colab": {
     "base_uri": "https://localhost:8080/",
     "height": 34
    },
    "colab_type": "code",
    "id": "G5RS_AcvudsS",
    "outputId": "f34f4589-e55e-4a33-e88d-5fabd7891b3f"
   },
   "outputs": [
    {
     "name": "stdout",
     "output_type": "stream",
     "text": [
      "13\n"
     ]
    }
   ],
   "source": [
    "# Obtenha a soma de todos os elementos de my_array\n",
    "soma = np.sum(my_array)\n",
    "print(soma)"
   ]
  },
  {
   "cell_type": "code",
   "execution_count": 76,
   "metadata": {
    "colab": {
     "base_uri": "https://localhost:8080/",
     "height": 34
    },
    "colab_type": "code",
    "id": "9QmbYYQBudsU",
    "outputId": "4f281392-3a12-4866-f040-1374c2c6a10f"
   },
   "outputs": [
    {
     "name": "stdout",
     "output_type": "stream",
     "text": [
      "2.6\n"
     ]
    }
   ],
   "source": [
    "# Obtenha a média de todos os elementos de my_array\n",
    "media = np.mean(my_array)\n",
    "print(media)"
   ]
  },
  {
   "cell_type": "code",
   "execution_count": 79,
   "metadata": {
    "colab": {
     "base_uri": "https://localhost:8080/",
     "height": 34
    },
    "colab_type": "code",
    "id": "xoH6GZ6FudsW",
    "outputId": "9332c7b6-1442-4bb1-907f-cfe827379c99"
   },
   "outputs": [
    {
     "name": "stdout",
     "output_type": "stream",
     "text": [
      "2\n"
     ]
    }
   ],
   "source": [
    "# Obtenha o indice do maior elemento de my_array\n",
    "idx_maior = np.argmax(my_array)\n",
    "print(idx_maior)"
   ]
  },
  {
   "cell_type": "code",
   "execution_count": 81,
   "metadata": {
    "colab": {
     "base_uri": "https://localhost:8080/",
     "height": 221
    },
    "colab_type": "code",
    "id": "VQ6B5UGkudsa",
    "outputId": "e9a5d36e-046e-45bf-b17d-c57c7cdddb8e"
   },
   "outputs": [
    {
     "name": "stdout",
     "output_type": "stream",
     "text": [
      "[4 9 2 5 8] \n",
      "\n",
      "[[3 8 5 5 3]\n",
      " [5 9 1 0 1]\n",
      " [6 0 4 4 0]\n",
      " [3 5 4 1 4]\n",
      " [5 3 0 8 8]\n",
      " [2 9 7 6 9]\n",
      " [0 8 2 7 4]\n",
      " [2 0 0 7 6]\n",
      " [1 2 2 3 3]\n",
      " [4 9 0 7 5]]\n"
     ]
    }
   ],
   "source": [
    "my_array = np.random.randint(10, size=(5,))\n",
    "my_other_array = np.random.randint(10, size=(10,5))\n",
    "print(my_array, '\\n')\n",
    "print(my_other_array)"
   ]
  },
  {
   "cell_type": "code",
   "execution_count": 83,
   "metadata": {
    "colab": {
     "base_uri": "https://localhost:8080/",
     "height": 187
    },
    "colab_type": "code",
    "id": "iyDJmqMwudsc",
    "outputId": "e743513e-f04c-4810-9ebc-9c6368799cdc"
   },
   "outputs": [
    {
     "name": "stdout",
     "output_type": "stream",
     "text": [
      "[[ 7 17  7 10 11]\n",
      " [ 9 18  3  5  9]\n",
      " [10  9  6  9  8]\n",
      " [ 7 14  6  6 12]\n",
      " [ 9 12  2 13 16]\n",
      " [ 6 18  9 11 17]\n",
      " [ 4 17  4 12 12]\n",
      " [ 6  9  2 12 14]\n",
      " [ 5 11  4  8 11]\n",
      " [ 8 18  2 12 13]]\n"
     ]
    }
   ],
   "source": [
    "# Some my_array elemento por elemento em cada linha de my_other_array\n",
    "result_array = my_other_array + my_array\n",
    "print(result_array)"
   ]
  },
  {
   "cell_type": "code",
   "execution_count": 84,
   "metadata": {
    "colab": {
     "base_uri": "https://localhost:8080/",
     "height": 289
    },
    "colab_type": "code",
    "id": "U04YZ-doudse",
    "outputId": "88354149-1cdd-4ead-fc1a-1d40228f38b4"
   },
   "outputs": [
    {
     "name": "stdout",
     "output_type": "stream",
     "text": [
      "[[8 9 6 3]\n",
      " [3 1 7 7]\n",
      " [4 5 3 9]\n",
      " [5 6 8 0]\n",
      " [0 7 9 3]] \n",
      "\n",
      "[[2 5 0 7 4]\n",
      " [6 8 6 6 0]\n",
      " [8 1 6 9 4]\n",
      " [0 8 9 9 0]\n",
      " [3 1 3 0 2]\n",
      " [6 5 4 9 4]\n",
      " [9 3 0 8 2]\n",
      " [3 4 2 2 6]\n",
      " [4 5 8 2 1]\n",
      " [6 4 7 3 5]]\n"
     ]
    }
   ],
   "source": [
    "my_array = np.random.randint(10, size=(5,4))\n",
    "my_other_array = np.random.randint(10, size=(10,5))\n",
    "print(my_array, '\\n')\n",
    "print(my_other_array)"
   ]
  },
  {
   "cell_type": "code",
   "execution_count": 85,
   "metadata": {
    "colab": {
     "base_uri": "https://localhost:8080/",
     "height": 187
    },
    "colab_type": "code",
    "id": "s_6JgBpUudsj",
    "outputId": "1aa8386c-68d8-4a2d-ae7d-ff37b512359d"
   },
   "outputs": [
    {
     "name": "stdout",
     "output_type": "stream",
     "text": [
      "[[ 66  93 139  53]\n",
      " [126 128 158 128]\n",
      " [136 185 181  97]\n",
      " [105 107 155 137]\n",
      " [ 39  57  52  49]\n",
      " [124 161 191 101]\n",
      " [121 146 157  54]\n",
      " [ 54  95 122  73]\n",
      " [ 89 100 108 122]\n",
      " [103 146 154 124]]\n"
     ]
    }
   ],
   "source": [
    "# Faça a multiplicação entre my_other_array e my_array\n",
    "mult_array = np.dot(my_other_array, my_array)\n",
    "print(mult_array)"
   ]
  },
  {
   "cell_type": "code",
   "execution_count": 87,
   "metadata": {
    "colab": {
     "base_uri": "https://localhost:8080/",
     "height": 34
    },
    "colab_type": "code",
    "id": "BMStn8lJudsl",
    "outputId": "443dda08-7b7e-463a-a463-b4f6a0665064"
   },
   "outputs": [
    {
     "name": "stdout",
     "output_type": "stream",
     "text": [
      "[18 26 28 26  9 28 22 17 20 25]\n"
     ]
    }
   ],
   "source": [
    "# Descubra a soma dos valores de cada linha de my_other_array\n",
    "# (Dica: Pesquise sobre o atributo axis da função de soma)\n",
    "soma_linhas = np.sum(my_other_array, axis=1)\n",
    "print(soma_linhas)"
   ]
  },
  {
   "cell_type": "code",
   "execution_count": 88,
   "metadata": {
    "colab": {
     "base_uri": "https://localhost:8080/",
     "height": 102
    },
    "colab_type": "code",
    "id": "Fh2fLcXiudso",
    "outputId": "4827da4c-d19f-4c62-dc20-ec509dad1fae"
   },
   "outputs": [
    {
     "name": "stdout",
     "output_type": "stream",
     "text": [
      "[[5 3 0 0]\n",
      " [7 3 9 9]\n",
      " [9 6 2 0]\n",
      " [0 1 9 2]\n",
      " [7 0 7 9]]\n"
     ]
    }
   ],
   "source": [
    "my_array = np.random.randint(10, size=(5,4))\n",
    "print(my_array)"
   ]
  },
  {
   "cell_type": "code",
   "execution_count": 91,
   "metadata": {
    "colab": {
     "base_uri": "https://localhost:8080/",
     "height": 34
    },
    "colab_type": "code",
    "id": "JyczGBmyudsq",
    "outputId": "096d8cbb-5264-44f7-8e33-aa29bb36adb2"
   },
   "outputs": [
    {
     "name": "stdout",
     "output_type": "stream",
     "text": [
      "[5 3 0 0 7 3 9 9 9 6 2 0 0 1 9 2 7 0 7 9]\n"
     ]
    }
   ],
   "source": [
    "# Usando reshape transforme a matriz acima em um vetor (Concatendo a linha de baixo na de cima\n",
    "my_array_vetor = my_array.reshape(-1)\n",
    "print(my_array_vetor)"
   ]
  },
  {
   "cell_type": "code",
   "execution_count": 92,
   "metadata": {
    "colab": {
     "base_uri": "https://localhost:8080/",
     "height": 51
    },
    "colab_type": "code",
    "id": "gsYucCe4udst",
    "outputId": "06bb3c2b-5a58-49a9-a071-eb128975b6c5"
   },
   "outputs": [
    {
     "data": {
      "text/plain": [
       "array([[ 0,  1,  2,  3,  4,  5,  6,  7],\n",
       "       [ 8,  9, 10, 11, 12, 13, 14, 15]])"
      ]
     },
     "execution_count": 92,
     "metadata": {
      "tags": []
     },
     "output_type": "execute_result"
    }
   ],
   "source": [
    "np.array([[ 0,  1,  2,  3,  4,  5,  6,  7],\n",
    "          [ 8,  9, 10, 11, 12, 13, 14, 15]])"
   ]
  },
  {
   "cell_type": "code",
   "execution_count": 95,
   "metadata": {
    "colab": {
     "base_uri": "https://localhost:8080/",
     "height": 51
    },
    "colab_type": "code",
    "id": "X9P64rLNudsx",
    "outputId": "fada36ea-1aa3-4ba8-c0b2-fe06caef608c"
   },
   "outputs": [
    {
     "name": "stdout",
     "output_type": "stream",
     "text": [
      "[[ 0  1  2  3  4  5  6  7]\n",
      " [ 8  9 10 11 12 13 14 15]]\n"
     ]
    }
   ],
   "source": [
    "# Gere a array anterior usando np.arange e a função reshape\n",
    "sequencia = np.arange(16)\n",
    "resultado = sequencia.reshape(2, -1)\n",
    "print(resultado)"
   ]
  }
 ],
 "metadata": {
  "colab": {
   "name": "exercicios_python_numpy.ipynb",
   "provenance": [],
   "version": "0.3.2"
  },
  "kernelspec": {
   "display_name": "Python 3",
   "language": "python",
   "name": "python3"
  },
  "language_info": {
   "codemirror_mode": {
    "name": "ipython",
    "version": 3
   },
   "file_extension": ".py",
   "mimetype": "text/x-python",
   "name": "python",
   "nbconvert_exporter": "python",
   "pygments_lexer": "ipython3",
   "version": "3.6.8"
  }
 },
 "nbformat": 4,
 "nbformat_minor": 2
}
